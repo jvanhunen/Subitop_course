{
 "cells": [
  {
   "cell_type": "markdown",
   "metadata": {},
   "source": [
    "# Starting with ASPECT\n",
    "Jeroen van Hunen and Phil Heron\n",
    "October 2018\n",
    "\n",
    "This document is to introduce you to the geodynamical software ASPECT and its postprocessing."
   ]
  },
  {
   "cell_type": "markdown",
   "metadata": {},
   "source": [
    "## Linux and Hamilton\n",
    "(Updated 20181003) \n",
    "In computer room CG65 or similar: \n",
    "- Start computer\n",
    "- Choose 'Boot Linux from local HDD\n",
    "- type CIS username and password\n",
    "- click Accept to agree with University regulations\n",
    "- click on black 'terminal' screen in top task bar\n",
    "- type the following info in the terminal window:"
   ]
  },
  {
   "cell_type": "code",
   "execution_count": null,
   "metadata": {
    "collapsed": true
   },
   "outputs": [],
   "source": [
    "ssh -X hamilton\n",
    "(provide CIS password)\n"
   ]
  },
  {
   "cell_type": "markdown",
   "metadata": {},
   "source": [
    "## ASPECT installation\n",
    "Follow Phil's installation guide given [here] (https://philheron.com/aspect-hamilton/).\n"
   ]
  },
  {
   "cell_type": "markdown",
   "metadata": {},
   "source": [
    "## Running calculations on Hamilton\n"
   ]
  },
  {
   "cell_type": "markdown",
   "metadata": {},
   "source": [
    "## Visualising results\n",
    "On hamilton:"
   ]
  },
  {
   "cell_type": "code",
   "execution_count": null,
   "metadata": {
    "collapsed": true
   },
   "outputs": [],
   "source": [
    "module load paraview/4.3.1\n",
    "paraview&"
   ]
  }
 ],
 "metadata": {
  "kernelspec": {
   "display_name": "Python 3",
   "language": "python",
   "name": "python3"
  },
  "language_info": {
   "codemirror_mode": {
    "name": "ipython",
    "version": 3
   },
   "file_extension": ".py",
   "mimetype": "text/x-python",
   "name": "python",
   "nbconvert_exporter": "python",
   "pygments_lexer": "ipython3",
   "version": "3.6.3"
  }
 },
 "nbformat": 4,
 "nbformat_minor": 2
}
