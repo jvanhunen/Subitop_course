{
 "cells": [
  {
   "cell_type": "markdown",
   "metadata": {},
   "source": [
    "![](http://community.dur.ac.uk/jeroen.van-hunen/Subitop/subitop_logo.png)\n",
    "\n",
    "This course is part of the Subitop modelling workshop, held in Edinburgh, 3-9 April, 2017. The course consists of 4 sessions: \n",
    "\n",
    "## Session 1: Introduction; timestepping, 0-D, radioactive decay\n",
    "- [lecture material](http://community.dur.ac.uk/jeroen.van-hunen/Subitop/Lecture_session1.pdf)\n",
    "- [practical material](http://community.dur.ac.uk/jeroen.van-hunen/Subitop/session1.html)\n",
    "- [extra's](http://community.dur.ac.uk/jeroen.van-hunen/Subitop/session1A.html)\n",
    "\n",
    "\n",
    "## Session 2: 1-D problems, heat diffusion\n",
    "- [lecture material](http://community.dur.ac.uk/jeroen.van-hunen/Subitop/Lecture_session2.pdf)\n",
    "- [practical material](http://community.dur.ac.uk/jeroen.van-hunen/Subitop/session2.html)\n",
    "\n",
    "## Session 3: Extension to 2-D problems, advection-diffusion\n",
    "- [lecture material](http://community.dur.ac.uk/jeroen.van-hunen/Subitop/Lecture_session3.pdf)\n",
    "- [practical material](http://community.dur.ac.uk/jeroen.van-hunen/Subitop/session3.html)\n",
    "\n",
    "## Session 4: Stokes equations, Stokes solver and coupled equations: mantle convection\n",
    "- [lecture material](http://community.dur.ac.uk/jeroen.van-hunen/Subitop/Lecture_session4.pdf)\n",
    "- [practical material](http://community.dur.ac.uk/jeroen.van-hunen/Subitop/session4.html)\n",
    "\n",
    "Jeroen van Hunen"
   ]
  }
 ],
 "metadata": {
  "anaconda-cloud": {},
  "kernelspec": {
   "display_name": "Python 3",
   "language": "python",
   "name": "python3"
  },
  "language_info": {
   "codemirror_mode": {
    "name": "ipython",
    "version": 3
   },
   "file_extension": ".py",
   "mimetype": "text/x-python",
   "name": "python",
   "nbconvert_exporter": "python",
   "pygments_lexer": "ipython3",
   "version": "3.6.3"
  }
 },
 "nbformat": 4,
 "nbformat_minor": 1
}
