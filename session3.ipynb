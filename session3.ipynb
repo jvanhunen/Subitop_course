{
 "cells": [
  {
   "cell_type": "markdown",
   "metadata": {
    "collapsed": true
   },
   "source": [
    "![](http://community.dur.ac.uk/jeroen.van-hunen/Subitop/subitop_logo.png)"
   ]
  },
  {
   "cell_type": "markdown",
   "metadata": {},
   "source": [
    "# Session3, Part 1: 2-D diffusion\n",
    "Lecture slides for this session can are \n",
    "[here](http://community.dur.ac.uk/jeroen.van-hunen/Subitop/Lecture_session3.pdf).\n",
    "\n",
    "Many geodynamical problems cannot be addressed satisfactorily in 1-D, and require (at least) a 2-D solution method. Today, we’ll set up a code for that. We will apply the 2-D solution method discussed in the lecture on a 1000x1000 km vertical cross section of the top of the mantle, in which around 660 km depth (the interface between upper and lower mantle) a 600 km long (i.e. wide) piece of subducted slab is positioned. A numerical heat diffusion code can be used to examine how this cold slab will thermally equilibrate with its hot surrounding.\n",
    "\n",
    "3.1. Copy the following Python template into into your Python editor. "
   ]
  },
  {
   "cell_type": "code",
   "execution_count": null,
   "metadata": {
    "collapsed": true
   },
   "outputs": [],
   "source": [
    "# heat2D.py\n",
    "#\n",
    "# Subitop modelling course, Edinburgh 2017\n",
    "# Jeroen van Hunen, March 2017\n",
    "# purpose: calculates 2D heat diffusion\n",
    "# method: explicit time integration\n",
    "\n",
    "import numpy as np\n",
    "import pylab as plt\n",
    "\n",
    "# Subfuctions: \n",
    "### twoDdiff function goes here ###\n",
    "\n",
    "# Main code: \n",
    "# Initialisation:\n",
    "# Heat diffusion variables:\n",
    "kappa    = 1e-6                # thermal diffusivity\n",
    "\n",
    "# Mesh setup:\n",
    "h        = 1000e3              # height of box: 1000 km\n",
    "w        = 1.0*h               # box of aspect ratio 1\n",
    "dx       = 1e4                 # discretization step in meters\n",
    "dz       = 1e4\n",
    "nx       = w/dx+1\n",
    "nz       = h/dz+1         \n",
    "dx       = w/(nx-1)            # Adjust requested dx & dz to fit in equidistant grid space\n",
    "dz       = h/(nz-1) \n",
    "x        = np.linspace(0,w,nx) # array for the finite difference mesh\n",
    "z        = np.linspace(0,h,nz)\n",
    "[xx,zz]  = np.meshgrid(x,z)\n",
    "\n",
    "# Time variables:\n",
    "nt       = 50                  # number of tsteps\n",
    "secinmyr = 1e6*365*24*3600     # amount of seconds in 1 Myr\n",
    "t        = 0                   # set initial time to zero\n",
    "nplot    = 5                   # plotting interval: plot every nplot timesteps\n",
    "\n",
    "# Initial condition:\n",
    "Tm       = 1350                # mantle temperature in degC\n",
    "Ttop     = 0                   # surface T\n",
    "Told=Tm*np.ones(np.shape(xx))  # Create T-field with T=Tm everywhere\n",
    "\n",
    "iplot=0\n",
    "# timestepping\n",
    "for it in range(1,nt):\n",
    "    # numerical solution\n",
    "    Tnew = twoDdiff(Told, dx, dz, kappa, dt)\n",
    "    \n",
    "    #update time\n",
    "    t=t+dt                  # in sec\n",
    "    \n",
    "    # plot solution:\n",
    "    if (it%nplot==0):\n",
    "        tmyrs=int(t/secinmyr)   # time in Myrs\n",
    "        plt.clf()\n",
    "        plt.figure(1)\n",
    "        plt.imshow(Told, \n",
    "                   extent=(0,h,0,h),\n",
    "                   clim=(0,Tm),\n",
    "                   interpolation='bilinear', \n",
    "                   cmap='jet')\n",
    "        plt.title('T after '+str(tmyrs)+' Myrs')\n",
    "        plt.pause(0.00005)\n",
    "  \n",
    "    # prepare for next time step:\n",
    "    Told = Tnew"
   ]
  },
  {
   "cell_type": "markdown",
   "metadata": {},
   "source": [
    "3.2. Add/complete the missing parts:\n",
    "- Put a 100-km thick and 600-km wide slab with $T=0^o$C as initial condition around 650 km depth within a mantle with uniform temperature of $1350^o$C.\n",
    "- An automatically calculated stable time step\n",
    "- A subfunction for the calculation of the new temperature as a function of the old temperature field for each of the nodal points, assuming essential boundary conditions.\n",
    "\n",
    "3.3. Once the code is working, try to test it:\n",
    "- A rough order-of-magnitude test is to see how quickly thermal anomalies fade away. The typical diffusion time scale $\\delta t$ for a thermal anomaly of size $\\delta x$ to fade away to a large extent is $\\delta t = \\frac{\\delta x^2}{\\kappa}$. \n",
    "- A benchmark comparison, by checking your code with those produced by your peers.\n",
    "- A resolution test.\n",
    "\n",
    "A model solution is available [here](http://community.dur.ac.uk/jeroen.van-hunen/Subitop/heat2D_solution.html).\n",
    "\n",
    "3.4. The solution can be made computationally faster by recognizing that the problem is symmetric across the vertical plane $x=500$ km. So by calculating only half of the solution, the other half is an identical mirror image. The symmetry boundary at $x=500$ km now becomes the right-hand side boundary of the mesh and should be assigned a different boundary condition.\n",
    "- Why is a natural boundary condition the most appropriate one on this boundary?\n",
    "- Implement this boundary condition. Implementation of this heat flux through the boundary (i.e. normal to the boundary) is fairly similar to the 1-D case. But keep in mind that, in 2-D, on top of this prescribed boundary-normal heat flux, heat should also diffuse parallel to the boundary at these boundary points.\n",
    "- Check that the solution (mirrored across $x=500$ km) is identical to the one for the full 1000-km wide domain.\n",
    "\n",
    "3.5. Implement the same natural boundary conditions also on the $x=0$ boundary and test it in the same way. We will use natural boundary conditions on both side boundaries for Session 4 of this course.\n"
   ]
  },
  {
   "cell_type": "markdown",
   "metadata": {},
   "source": [
    "# Session3, Part 2: 2-D advection-diffusion\n",
    "In this session, we will add advection to the heat equation, which will make it suitable for modelling convection. To do so, we will modify the code from the previous session:\n",
    "\n",
    "3.5. Reduce the size of the thermal anomaly to a 200-by-200 km cold block centred around $(x_c,z_c)=(500,300)$ km.\n",
    "\n",
    "3.6. Create a solid rotation velocity field around the centre of the box: \n",
    "      $\\vec{v} =\\left( {\\begin{array}{c} v_x \\\\ v_z \\end{array} } \\right) = \n",
    "                \\left( {\\begin{array}{c} -v_\\alpha (z-z_c) \\\\ v_\\alpha (x-x_c) \\end{array} } \\right)$, with $v_\\alpha=\\frac{2\\pi}{\\tau}$ the magnitude of the angular velocity (in rad/sec), $r$ the distance to the centre of the box (in m), and $\\tau$ the convection overturn time (in sec). If you are unsure how to implement this, a possible Python implementation is given [here](http://community.dur.ac.uk/jeroen.van-hunen/Subitop/solid_rotation.html).\n",
    "\n",
    "3.7. Add the advection part to your `twoDdiff` subfunction (which you now might want to call `twoDadvdiff`). Follow the following 'pseudo-code': "
   ]
  },
  {
   "cell_type": "code",
   "execution_count": null,
   "metadata": {
    "collapsed": true
   },
   "outputs": [],
   "source": [
    "# Horizontal advection: \n",
    "#    loop over all x-points (internal ones only, boundary points have vx=0)\n",
    "#       loop over all z-points (including boundary points)\n",
    "#           if vx>0:\n",
    "#               dTdt_x = -vx / dx * (T_j,i - T_j,i-1)\n",
    "#           else: \n",
    "#               dTdt_x = -vx / dx * (T_j,i+1 - T_j,i)\n",
    "#           add dTdt_x to diffusion dTdt part\n",
    "# Vertical advection: \n",
    "#    repeat same procedure ..."
   ]
  },
  {
   "cell_type": "markdown",
   "metadata": {},
   "source": [
    "If you are unsure how to implement this, a possible implementation of this is given [here](http://community.dur.ac.uk/jeroen.van-hunen/Subitop/advection_part.html). \n",
    "\n",
    "A model solution is available [here](http://community.dur.ac.uk/jeroen.van-hunen/Subitop/heat2Dadv_solution.html)."
   ]
  }
 ],
 "metadata": {
  "anaconda-cloud": {},
  "kernelspec": {
   "display_name": "Python [default]",
   "language": "python",
   "name": "python2"
  },
  "language_info": {
   "codemirror_mode": {
    "name": "ipython",
    "version": 2
   },
   "file_extension": ".py",
   "mimetype": "text/x-python",
   "name": "python",
   "nbconvert_exporter": "python",
   "pygments_lexer": "ipython2",
   "version": "2.7.12"
  }
 },
 "nbformat": 4,
 "nbformat_minor": 1
}
