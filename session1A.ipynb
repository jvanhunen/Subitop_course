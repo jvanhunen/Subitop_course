{
 "cells": [
  {
   "cell_type": "markdown",
   "metadata": {
    "collapsed": true
   },
   "source": [
    "![](http://community.dur.ac.uk/jeroen.van-hunen/Subitop/subitop_logo.png)"
   ]
  },
  {
   "cell_type": "markdown",
   "metadata": {},
   "source": [
    "# Session 1, Extras, part A: Cooling of the Earth\n",
    "\n",
    "The (potential) temperature T of the Earth's upper mantle today is about $1350^oC$ , but heat released\n",
    "from accretion of the Earth and differentiation into a core-mantle layered system\n",
    "probably heated the early internal Earth to several $100 K$ hotter than that. Since then,\n",
    "radio-active decay added (and still adds) another significant amount of heat, while the\n",
    "only way for the Earth to lose its heat is through its surface. A simple heat balance\n",
    "for the Earth states that the difference between the total radioactive heat source for\n",
    "the whole Earth, $H$, and the total heat sink for the Earth, $Q$, (surface heat flow)\n",
    "leads to cooling (or heating) of the Earth. Mathematically, this can be expressed as:\n",
    "$C\\frac{dT}{dt} = H(t) - Q(t)$, with $C=7\\times10^{27}$   $JK^{-1}$ the Earth's total\n",
    "heat capacity. $T$, $H$, and $Q$ generally are all functions of time $t$.\n",
    "\n",
    "A.1) The following table lists the four most important decay systems for the Earth's\n",
    "thermal history, using $H = H_0 \\exp(-\\lambda t)$, with $\\lambda$ related to the\n",
    "half-life of a decay system as $\\lambda=\\ln(2)/\\tau$:\n",
    "\n",
    "![](http://community.dur.ac.uk/jeroen.van-hunen/Subitop/TABLE1.png)\n",
    "\n",
    "Construct a finite difference code to calculate the thermal history of the Earth.\n",
    "**Hint:** $t=0$ can be chosen to be either today (in which case time runs backward) or\n",
    "at the time of Earth's accretion (so that time runs forward). Note that this forward or\n",
    "reverse sense of time has nothing to do with Forward or Backward Euler timestepping. \n",
    "\n",
    "A.2) Plot the resulting temperature $T$ as a function of time. According to this\n",
    "(simple) model, did the Earth always cool down over time?\n",
    "\n",
    "A.3) Test the code with a convergence test, and compare results with those of your colleagues.\n",
    "\n",
    "A.4) The Urey ratio $Ur$ is defined as the present-day ratio of $H/Q$, and is thought to be\n",
    "anywhere between $Ur = 0.2$ and $0.5$. Vary $Ur$ by multiplying the total heat\n",
    "production with a constant prefactor, and explore how that affects the Earth's thermal\n",
    "evolution. Plot multiple $Ur$ results in a single plot.\n",
    "\n",
    "A.5) $Q$ is probably not constant, but mantle temperature dependent (e.g. a hotter,\n",
    "weaker mantle might lead to faster mantle convection and therefore faster cooling).\n",
    "Adjust $Q$ to be linearly proportional to $T$. Note that this will make the governing\n",
    "equation a differential equation (since now $\\frac{dT}{dt}$ is dependent on $T$). Examine the different\n",
    "solution for Forward Euler, Backward Euler, and Crank-Nicholson timestepping."
   ]
  }
 ],
 "metadata": {
  "anaconda-cloud": {},
  "kernelspec": {
   "display_name": "Python [default]",
   "language": "python",
   "name": "python2"
  },
  "language_info": {
   "codemirror_mode": {
    "name": "ipython",
    "version": 2
   },
   "file_extension": ".py",
   "mimetype": "text/x-python",
   "name": "python",
   "nbconvert_exporter": "python",
   "pygments_lexer": "ipython2",
   "version": "2.7.12"
  }
 },
 "nbformat": 4,
 "nbformat_minor": 1
}
