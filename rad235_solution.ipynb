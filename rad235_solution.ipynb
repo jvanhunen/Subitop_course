{
 "cells": [
  {
   "cell_type": "code",
   "execution_count": null,
   "metadata": {
    "collapsed": true
   },
   "outputs": [],
   "source": [
    "#!/usr/bin/env python2\n",
    "#\n",
    "# Subitop modelling course, Edinburgh 2017\n",
    "# Jeroen van Hunen, March 2017\n",
    "# rad235U_solution.py\n",
    "# purpose: calculates radioactive decay of 235U to 207Pb:\n",
    "\n",
    "import numpy as np\n",
    "import pylab as plt\n",
    "\n",
    "nt    = 10                       # nr of timesteps\n",
    "time  = np.linspace(0,4.567,nt)  # Define time array over 4.567 Gyrs\n",
    "dt    = time[1]-time[0]          # Calculate size of each timestep\n",
    "    \n",
    "N_FE   = np.zeros(nt);  # 235U / 204Pb \n",
    "N_BE   = np.zeros(nt);  # 235U / 204Pb \n",
    "N_CN   = np.zeros(nt);  # 235U / 204Pb \n",
    "\n",
    "N_ini  = 5.5            \n",
    "N_FE[0]= N_ini\n",
    "N_BE[0]= N_ini\n",
    "N_CN[0]= N_ini         \n",
    "lam = 0.9848         # halflife = 704 Myrs\n",
    "\n",
    "for it in range(1,nt):   \n",
    "    N_FE[it] = N_FE[it-1] * (1-dt*lam)            # Forward Euler\n",
    "    N_BE[it] = N_BE[it-1] / (1+dt*lam)            # Backward Euler\n",
    "    N_CN[it] = N_CN[it-1] * (2-dt*lam)/(2+dt*lam) # Crank-Nicholson\n",
    "\n",
    "N_ana  = N_ini * np.exp(-lam*time)    # analytical solution\n",
    "\n",
    "plt.figure(1)\n",
    "plt.clf()\n",
    "plt.plot(time, N_FE, 'o-', label='FE')\n",
    "plt.plot(time, N_BE, 'o-', label='BE')\n",
    "plt.plot(time, N_CN, 'o-',label='CN')\n",
    "plt.plot(time, N_ana, label='analytical')\n",
    "plt.legend()\n",
    "plt.xlabel('t(Gyrs)')\n",
    "plt.ylabel('235U / 204Pb')\n",
    "plt.show()"
   ]
  }
 ],
 "metadata": {
  "kernelspec": {
   "display_name": "Python [default]",
   "language": "python",
   "name": "python2"
  },
  "language_info": {
   "codemirror_mode": {
    "name": "ipython",
    "version": 2
   },
   "file_extension": ".py",
   "mimetype": "text/x-python",
   "name": "python",
   "nbconvert_exporter": "python",
   "pygments_lexer": "ipython2",
   "version": "2.7.12"
  }
 },
 "nbformat": 4,
 "nbformat_minor": 1
}
