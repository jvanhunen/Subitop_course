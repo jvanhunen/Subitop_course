{
 "cells": [
  {
   "cell_type": "code",
   "execution_count": null,
   "metadata": {
    "collapsed": true
   },
   "outputs": [],
   "source": [
    "# Define solid rotation velocity field:\n",
    "tau      = 100*secinmyr        # 100-Myr convection overturn period in seconds\n",
    "v0       = 2*np.pi/tau         # angular velocity (in rad/sec)\n",
    "xh       = xx-0.5*h            # x-distances to hor middle of mesh (on xx mesh)\n",
    "zh       = zz-0.5*h            # z-distances to vert middle of mesh (on xx mesh)\n",
    "vx       = -v0*zh              # define solid rotation velocity field: v=vo*r:\n",
    "vz       = v0*xh "
   ]
  }
 ],
 "metadata": {
  "anaconda-cloud": {},
  "kernelspec": {
   "display_name": "Python [default]",
   "language": "python",
   "name": "python2"
  },
  "language_info": {
   "codemirror_mode": {
    "name": "ipython",
    "version": 2
   },
   "file_extension": ".py",
   "mimetype": "text/x-python",
   "name": "python",
   "nbconvert_exporter": "python",
   "pygments_lexer": "ipython2",
   "version": "2.7.12"
  }
 },
 "nbformat": 4,
 "nbformat_minor": 1
}
