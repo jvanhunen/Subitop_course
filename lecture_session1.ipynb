{
 "cells": [
  {
   "cell_type": "markdown",
   "metadata": {},
   "source": [
    "![](http://community.dur.ac.uk/jeroen.van-hunen/Subitop/subitop_logo.png)\n",
    "\n",
    "# Lecture slides for session 1\n",
    "\n",
    "[lecture slides are listed here](http://community.dur.ac.uk/jeroen.van-hunen/Subitop/Session1.pdf)"
   ]
  }
 ],
 "metadata": {
  "kernelspec": {
   "display_name": "Python [default]",
   "language": "python",
   "name": "python2"
  },
  "language_info": {
   "codemirror_mode": {
    "name": "ipython",
    "version": 2
   },
   "file_extension": ".py",
   "mimetype": "text/x-python",
   "name": "python",
   "nbconvert_exporter": "python",
   "pygments_lexer": "ipython2",
   "version": "2.7.12"
  }
 },
 "nbformat": 4,
 "nbformat_minor": 1
}
