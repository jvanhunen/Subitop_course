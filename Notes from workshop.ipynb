{
 "cells": [
  {
   "cell_type": "markdown",
   "metadata": {},
   "source": [
    "## Subitop modelling course, day 1\n",
    "\n",
    "Why Python:\n",
    "- Can do more than just modelling\n",
    "- Freeware\n",
    "\n",
    "Spyder:\n",
    "- \n",
    "\n",
    "Jupyter: \n",
    "- Deals with Julian, Python and R (hence name)\n",
    "- can be used as a notebook (as I am doing right now)\n",
    "\n",
    "Python: \n",
    "- list of numbers in suqare brackets, separated by comma's:"
   ]
  },
  {
   "cell_type": "code",
   "execution_count": 2,
   "metadata": {
    "collapsed": false
   },
   "outputs": [
    {
     "name": "stdout",
     "output_type": "stream",
     "text": [
      "1\n",
      "2\n",
      "4\n",
      "5\n"
     ]
    }
   ],
   "source": [
    "D=[1,2,4,5]\n",
    "for element in D:\n",
    "    print(element)\n"
   ]
  },
  {
   "cell_type": "code",
   "execution_count": 3,
   "metadata": {
    "collapsed": false
   },
   "outputs": [
    {
     "ename": "SyntaxError",
     "evalue": "invalid syntax (<ipython-input-3-067cceb4775b>, line 2)",
     "output_type": "error",
     "traceback": [
      "\u001b[0;36m  File \u001b[0;32m\"<ipython-input-3-067cceb4775b>\"\u001b[0;36m, line \u001b[0;32m2\u001b[0m\n\u001b[0;31m    for idx in range(0:10):\u001b[0m\n\u001b[0m                      ^\u001b[0m\n\u001b[0;31mSyntaxError\u001b[0m\u001b[0;31m:\u001b[0m invalid syntax\n"
     ]
    }
   ],
   "source": [
    "D=[1,2,4,5]\n",
    "for idx in range(0:10):\n",
    "    print(D(idx))\n"
   ]
  },
  {
   "cell_type": "markdown",
   "metadata": {},
   "source": [
    "Code breaks because idx range is larger than nr of entries in D.\n",
    "The 'Pythonic' way is: "
   ]
  },
  {
   "cell_type": "code",
   "execution_count": 4,
   "metadata": {
    "collapsed": false
   },
   "outputs": [
    {
     "name": "stdout",
     "output_type": "stream",
     "text": [
      "index is: 0 and element is: 1\n",
      "index is: 1 and element is: 2\n",
      "index is: 2 and element is: 4\n",
      "index is: 3 and element is: 5\n"
     ]
    }
   ],
   "source": [
    "D=[1,2,4,5]\n",
    "for idx,element in enumerate(D):\n",
    "    print(\"index is: \"+str(idx)+\" and element is: \"+str(element))\n"
   ]
  },
  {
   "cell_type": "markdown",
   "metadata": {},
   "source": [
    "In this way, the index nr never exceeds the length of a list.\n",
    "\n",
    "Manipulating files:"
   ]
  },
  {
   "cell_type": "code",
   "execution_count": null,
   "metadata": {
    "collapsed": true
   },
   "outputs": [],
   "source": [
    "np.loadtxt(fname='filename.csv', delimiter=',', skiprows=1)"
   ]
  },
  {
   "cell_type": "markdown",
   "metadata": {},
   "source": [
    "or: "
   ]
  },
  {
   "cell_type": "code",
   "execution_count": null,
   "metadata": {
    "collapsed": true
   },
   "outputs": [],
   "source": [
    "f=open('somefile.csv)')\n"
   ]
  },
  {
   "cell_type": "markdown",
   "metadata": {},
   "source": [
    "This will read all file contents as strings. You can split the strings with: "
   ]
  },
  {
   "cell_type": "code",
   "execution_count": 5,
   "metadata": {
    "collapsed": false
   },
   "outputs": [
    {
     "name": "stdout",
     "output_type": "stream",
     "text": [
      "['1', '2', '3', '4', '5']\n"
     ]
    }
   ],
   "source": [
    "a=\"1,2,3,4,5\"\n",
    "b=a.split(\",\")\n",
    "print(b)"
   ]
  },
  {
   "cell_type": "markdown",
   "metadata": {},
   "source": [
    "Plotting: \n",
    "www.matplotlib.org\n",
    "How to change Spyder from inline plotting to plotting in separate window: http://stackoverflow.com/questions/23585126/how-do-i-get-interactive-plots-again-in-spyder-ipython-matplotlib\n"
   ]
  },
  {
   "cell_type": "markdown",
   "metadata": {},
   "source": [
    "# Version control\n",
    "git / github\n",
    "github.com: apply for account (all public unless you pay to make it private)\n",
    "bitbucket.org: apply for account (all private, unless you pay\n",
    "\n",
    "git: \n",
    "create dir\n",
    "put files in \n",
    "To start git, type: \n",
    "   git init"
   ]
  }
 ],
 "metadata": {
  "anaconda-cloud": {},
  "kernelspec": {
   "display_name": "Python [default]",
   "language": "python",
   "name": "python2"
  },
  "language_info": {
   "codemirror_mode": {
    "name": "ipython",
    "version": 2
   },
   "file_extension": ".py",
   "mimetype": "text/x-python",
   "name": "python",
   "nbconvert_exporter": "python",
   "pygments_lexer": "ipython2",
   "version": "2.7.12"
  }
 },
 "nbformat": 4,
 "nbformat_minor": 1
}
