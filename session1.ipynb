{
 "cells": [
  {
   "cell_type": "markdown",
   "metadata": {
    "collapsed": true
   },
   "source": [
    "![](http://community.dur.ac.uk/jeroen.van-hunen/Subitop/subitop_logo.png)"
   ]
  },
  {
   "cell_type": "markdown",
   "metadata": {},
   "source": [
    "# Session 1: Radioactive Decay, Part 1\n",
    "Lecture slides for this session can are \n",
    "[here](http://community.dur.ac.uk/jeroen.van-hunen/Subitop/Lecture_session1.pdf)."
   ]
  },
  {
   "cell_type": "markdown",
   "metadata": {},
   "source": [
    "Uranium 235 ( $^{235}U$ ) decays to Lead 207 ( $^{207}Pb$ ), with a half-life $\\tau=704$ Myrs. In other\n",
    "words, in 704 Myrs, half of the available $^{235}U$ decays to $^{207}Pb$ . More generally, each unit\n",
    "of time (say each million years) a constant fraction of  $^{235}U$ decays to $^{207}Pb$ . The removal\n",
    "of $^{235}U$ (to produce $^{207}Pb$ ) is therefore directly proportional to the available $^{235}U$ itself\n",
    "(check this for yourself!). Let's simplify notation and call $^{235}U$ simply $N$ .\n",
    "Mathematically, this radioactive decay is then written as:\n",
    "\n",
    "$\\frac{dN}{dt} = -\\lambda N$, with $\\lambda$ being the 'decay constant'.\n",
    "\n",
    "*NOTE:* An equation like this one, containing a variable and its derivative, is called a\n",
    "differential equation (henceforth referred to as DE) It nicely describes the physics of\n",
    "(in this case) radioactive decay, but it doesn't provide an immediate solution for the\n",
    "unknown variable $N$; we have to solve it first. In some cases, including this one, it\n",
    "is possible to solve the DE analytically. In other cases, a numerical approximation\n",
    "must be used.\n",
    "\n",
    "Quantities (or rather concentrations) of $^{235}U$ and $^{207}Pb$ are usually measured\n",
    "with respect to the concentration of a stable isotope of the daughter element, in this\n",
    "case $^{204}Pb$. At the start of Earth's life at 4.567 Ga, the concentrations in the mantle\n",
    "of $^{235}U$ relative to $^{204}Pb$ was $N_{ini} = \\frac{^{235}U}{^{204}Pb} = 5.5$.\n",
    "\n",
    "1.1. Run the following script `rad235U.py` in your Python editor. Study it\n",
    "briefly, and run the code to see what it does. Make sure you understand what the code is\n",
    "doing."
   ]
  },
  {
   "cell_type": "code",
   "execution_count": null,
   "metadata": {
    "collapsed": true
   },
   "outputs": [],
   "source": [
    "# Subitop modelling course, Edinburgh 2017\n",
    "# Jeroen van Hunen, March 2017\n",
    "# rad235U.py\n",
    "# purpose: calculates radioactive decay of 235U to 207Pb:\n",
    "\n",
    "import numpy as np\n",
    "import pylab as plt\n",
    "\n",
    "nt    = 10                       # nr of timesteps\n",
    "time  = np.linspace(0,4.567,nt)  # Define time array over 4.567 Gyrs\n",
    "dt    = time[1]-time[0]          # Calculate size of each timestep             \n",
    "    \n",
    "N     = np.zeros(nt);            # Array to store 235U/204Pb values in\n",
    "N_ini = 5.5                      # Initial 235U/204Pb\n",
    "N[0]  = N_ini                    # Fill 1st position in array with N_ini\n",
    "tau   = 0.704                    # halflife in Gyrs\n",
    "lam   = np.log(2)/tau            # decay constant = ln(2)/tau \n",
    "\n",
    "for it in range(1,nt):   \n",
    "    N[it] = N[it-1] * (1-dt*lam) # Numerical solution using timestepping\n",
    "\n",
    "plt.figure(1)                    # Plot the solution\n",
    "plt.clf()\n",
    "plt.plot(time, N, 'o-', label='numerical')\n",
    "plt.legend()\n",
    "plt.xlabel('t(Gyrs)')\n",
    "plt.ylabel('235U / 204Pb')\n",
    "plt.show()"
   ]
  },
  {
   "cell_type": "markdown",
   "metadata": {},
   "source": [
    "1.2) The analytical solution to the DE for radioactive decay is given by $N =\n",
    "N_{ini}\\exp{(-\\lambda t)}$. Add the analytical solution from the lecture notes to the code and plot. \n",
    "\n",
    "1.3. How does the numerical model perform?\n",
    "\n",
    "1.4. How does the size of the timestep affect your results? Try different timesteps to check that the numerical solution approaches the analytical one for decreasing timesteps. This is called a 'resolution test', which is an important test for all codes you will be building in the future."
   ]
  },
  {
   "cell_type": "markdown",
   "metadata": {},
   "source": [
    "# Session 1: Radioactive Decay, Part 2\n",
    "1.5) Add the Backward Euler method to your existing code, and test it again.\n",
    "\n",
    "1.6) Add the Crank-Nicholson method to your existing code, and test it again.\n",
    "\n",
    "1.7) **(Extra)** If time permits, calculate the error between the analytical and numerical solutions for $^{235}U$ for\n",
    "each of the three methods. Plot the error through time (if necessary in a separate subplot). \n",
    "Which of the three methods has the smallest error for a given size timestep and why?\n",
    "\n",
    "A model solution for this session is available \n",
    "[here](http://community.dur.ac.uk/jeroen.van-hunen/Subitop/rad235_solution.html)."
   ]
  }
 ],
 "metadata": {
  "anaconda-cloud": {},
  "kernelspec": {
   "display_name": "Python 3",
   "language": "python",
   "name": "python3"
  },
  "language_info": {
   "codemirror_mode": {
    "name": "ipython",
    "version": 3
   },
   "file_extension": ".py",
   "mimetype": "text/x-python",
   "name": "python",
   "nbconvert_exporter": "python",
   "pygments_lexer": "ipython3",
   "version": "3.6.3"
  }
 },
 "nbformat": 4,
 "nbformat_minor": 1
}
