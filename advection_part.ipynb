{
 "cells": [
  {
   "cell_type": "code",
   "execution_count": null,
   "metadata": {
    "collapsed": true
   },
   "outputs": [],
   "source": [
    "    # Advection: upwind approach: \n",
    "    [nz,nx]=np.shape(fin)\n",
    "    for i in range(1,nx-1):\n",
    "        for j in range(0,nz):\n",
    "            if vx[j,i]>=0:\n",
    "                dfdtx=vx[j,i]*(fin[j,i-1]-fin[j,i])/dx\n",
    "            else:\n",
    "                dfdtx=vx[j,i]*(fin[j,i]-fin[j,i+1])/dx\n",
    "            dfdt[j,i]=dfdt[j,i]+dfdtx\n",
    "    for i in range(0,nx):\n",
    "       for j in range(1,nz-1):\n",
    "            if vz[j,i]>=0:\n",
    "                dfdtz=vz[j,i]*(fin[j-1,i]-fin[j,i])/dz\n",
    "            else:\n",
    "                dfdtz=vz[j,i]*(fin[j,i]-fin[j+1,i])/dz\n",
    "            dfdt[j,i]=dfdt[j,i]+dfdtz"
   ]
  }
 ],
 "metadata": {
  "kernelspec": {
   "display_name": "Python [default]",
   "language": "python",
   "name": "python2"
  },
  "language_info": {
   "codemirror_mode": {
    "name": "ipython",
    "version": 2
   },
   "file_extension": ".py",
   "mimetype": "text/x-python",
   "name": "python",
   "nbconvert_exporter": "python",
   "pygments_lexer": "ipython2",
   "version": "2.7.12"
  }
 },
 "nbformat": 4,
 "nbformat_minor": 1
}
